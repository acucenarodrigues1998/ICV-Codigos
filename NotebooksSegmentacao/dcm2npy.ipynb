{
 "cells": [
  {
   "cell_type": "markdown",
   "metadata": {},
   "source": [
    "# Abrindo as Imagens da Base LIDC-IDRI\n",
    "\n",
    "Nesta primeira etapa do projeto, nós utilizamos as bibliotecas Pydicom e Numpy para abrir as imagens e gerar arquivos em um formato que será utilizado na próxima etapa. \n",
    "\n",
    "A biblioteca Pydicom é a responsável por abrir os arquivos originais na base, no formato dicom (.dcm). Posteriormente, são coletadas desses arquivos o array de pixels e informações presentes no cabeçalho que são relevantes a análise que será realizada posteriormente. \n",
    "\n",
    "Esses dados coletados são salvos em um array da biblioteca Numpy no formato (.npy).\n",
    "\n",
    "Para mais informações sobre o projeto, leia o README deste repositório."
   ]
  },
  {
   "cell_type": "markdown",
   "metadata": {},
   "source": [
    "## Importação das Bibliotecas\n",
    "\n",
    "As bibliotecas utilizadas nessa etapa do projeto foram:\n",
    "\n",
    "* pydicom: Responsável pela manipulação das imagens no formato dicom\n",
    "* glob: Responsável por listar os nomes dos arquivos dentro de um padrão\n",
    "* os: Responsável por operações de sistema operacional\n",
    "* numpy: Operações matemáticas e criação de arrays\n",
    "\n",
    "Essas libs são importadas no código abaixo:"
   ]
  },
  {
   "cell_type": "code",
   "execution_count": null,
   "metadata": {
    "scrolled": true
   },
   "outputs": [],
   "source": [
    "import pydicom \n",
    "from glob import glob \n",
    "import os, os.path \n",
    "import numpy as np "
   ]
  },
  {
   "cell_type": "markdown",
   "metadata": {},
   "source": [
    "## Configurando as fontes de dados"
   ]
  },
  {
   "cell_type": "code",
   "execution_count": null,
   "metadata": {},
   "outputs": [],
   "source": [
    "image_directory = \"/media/acucena/Arquivos/Base ICV/LIDC-IDRI/img/teste/*\" # Entrada\n",
    "output_path = \"/media/acucena/Arquivos/Base ICV/NPY/\" # Saída\n",
    "path_to_images = glob(image_directory) # Lista de arquivos presentes no diretório de entrada"
   ]
  },
  {
   "cell_type": "markdown",
   "metadata": {},
   "source": [
    "## Processamento\n",
    "\n",
    "O código abaixo irá iterar por todos os exames da base e executando as seguintes ações:\n",
    "\n",
    "1. Navega pelos arquivos dos diretórios dos exames encontrando a quantidade de arquivos nessas pastas. Nós estamos interessados no diretório com o maior número de arquivos (Um exame consta de alguns subníveis de arquivo e alguns possuem além do exame de TC, um exame de raio-X). \n",
    "\n",
    "2. Seleciona a pasta com o maior número de arquivos e cria uma lista os arquivos presentes na mesma. \n",
    "\n",
    "3. Itera sobre os arquivos da lista gerada no passo 2:\n",
    "  * Lê os arquivos (cada arquivo desse é chamado de slice)\n",
    "  * Coleta alguns dados do arquivo (o arquivo dicom é composto por um array de pixels e um cabeçalho com informações relevantes sobre a imagem e o paciente relativo àquele exame).\n",
    "  \n",
    "  \n",
    "4. Salva os arrays com os dados selecionados em arquivos no formato .npy.\n",
    "  \n",
    "    "
   ]
  },
  {
   "cell_type": "code",
   "execution_count": null,
   "metadata": {},
   "outputs": [],
   "source": [
    "largest_stack = 0\n",
    "\n",
    "for patient in path_to_images:\n",
    "    \n",
    "    # Passo 1\n",
    "    subdirs = glob(patient + \"/*\")\n",
    "    # 1st Branch\n",
    "    first_subdir = glob(subdirs[0]+\"/*\")[0]\n",
    "    first_len = len([name for name in os.listdir(first_subdir + \"/\")])\n",
    "    # 2nd Branch\n",
    "    second_subdir = glob(subdirs[-1] + \"/*\")[0]\n",
    "    second_len = len([name for name in os.listdir(second_subdir + \"/\")])\n",
    "\n",
    "    # Passo 2\n",
    "    # If 1st longer then build structure from 1st data\n",
    "    # If 2nd longer then build structure from 2nd data\n",
    "    if first_len > second_len:\n",
    "        patient_image_folder = first_subdir + \"/*.dcm\"\n",
    "    else:\n",
    "        patient_image_folder = second_subdir + \"/*.dcm\"\n",
    "    \n",
    "    # Passo 3\n",
    "    image_stack = []\n",
    "    cur_stack_size = 0\n",
    "    for image in glob(patient_image_folder):\n",
    "        # Read in each image and construct 3d arrays\n",
    "        ds = pydicom.dcmread(image)\n",
    "        image_stack.append([ds.pixel_array, ds.SliceLocation, ds.InstanceNumber, \n",
    "                            ds.RescaleIntercept, ds.RescaleSlope])\n",
    "        cur_stack_size = cur_stack_size + 1\n",
    "        \n",
    "    # Keep track of largest num of slices for zero pad\n",
    "    if cur_stack_size > largest_stack:\n",
    "        largest_stack = cur_stack_size\n",
    "    patient_array = np.asarray(image_stack)\n",
    "    \n",
    "    # Passo 4\n",
    "    id = patient.split(\"/\")[8]\n",
    "    np.save(output_path + \"%s.npy\" % (id), patient_array)\n",
    "    print(\"Patient: \" + id + \" converted and saved to npy\")"
   ]
  },
  {
   "cell_type": "markdown",
   "metadata": {},
   "source": [
    "## Conclusão\n",
    "\n",
    "Após essa etapa, passaremos para o pré-processamento e a segmentação do parênquima e dos nódulos."
   ]
  }
 ],
 "metadata": {
  "kernelspec": {
   "display_name": "Python 3",
   "language": "python",
   "name": "python3"
  },
  "language_info": {
   "codemirror_mode": {
    "name": "ipython",
    "version": 3
   },
   "file_extension": ".py",
   "mimetype": "text/x-python",
   "name": "python",
   "nbconvert_exporter": "python",
   "pygments_lexer": "ipython3",
   "version": "3.7.3"
  }
 },
 "nbformat": 4,
 "nbformat_minor": 2
}
