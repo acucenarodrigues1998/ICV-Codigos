{
 "cells": [
  {
   "cell_type": "markdown",
   "metadata": {},
   "source": [
    "# Geração de Máscaras\n",
    "\n",
    "Dentro da base LIDC-IDRI, cada exame vem acompanhado de um arquivo xml que contém um conjunto de coordenadas de marcações feitas através da avaliação de especialistas médicos, além de informações relativas ao paciente e ao diagnóstico. \n",
    "\n",
    "Essas marcações são utilizadas para gerar as máscaras (verdades terrestres) que são utilizadas para a validação dos métodos de segmentação. "
   ]
  },
  {
   "cell_type": "markdown",
   "metadata": {},
   "source": [
    "## Importação de Bibliotecas"
   ]
  },
  {
   "cell_type": "code",
   "execution_count": null,
   "metadata": {},
   "outputs": [],
   "source": [
    "import csv\n",
    "import untangle\n",
    "from glob import glob\n",
    "import numpy as np\n",
    "import matplotlib.pyplot as plt\n",
    "from scipy.ndimage.morphology import binary_fill_holes"
   ]
  },
  {
   "cell_type": "code",
   "execution_count": null,
   "metadata": {},
   "outputs": [],
   "source": []
  },
  {
   "cell_type": "code",
   "execution_count": null,
   "metadata": {},
   "outputs": [],
   "source": [
    "data_path = \"/content/drive/My Drive/base/*\"\n",
    "output_path = \"/content/drive/My Drive/mascaras-base/\"\n",
    "patient = glob(data_path)\n",
    "patient = sorted(patient)"
   ]
  },
  {
   "cell_type": "code",
   "execution_count": null,
   "metadata": {},
   "outputs": [],
   "source": [
    "def calc_area(mask):\n",
    "    return len(np.where(mask == True)[0])"
   ]
  },
  {
   "cell_type": "code",
   "execution_count": null,
   "metadata": {},
   "outputs": [],
   "source": [
    "for p in patient:\n",
    "    subdirs = glob(p + \"/*\")\n",
    "    # 1st Branch\n",
    "    first_subdir = glob(subdirs[0]+\"/*\")[0]\n",
    "    first_len = len([name for name in os.listdir(first_subdir + \"/\")])\n",
    "    # 2nd Branch\n",
    "    second_subdir = glob(subdirs[-1] + \"/*\")[0]\n",
    "    second_len = len([name for name in os.listdir(second_subdir + \"/\")])\n",
    "\n",
    "    # If 1st longer then build structure from 1st data\n",
    "    # If 2nd longer then build structure from 2nd data\n",
    "    if first_len > second_len:\n",
    "        patient_xml = first_subdir + \"/*.xml\"\n",
    "        patient_dcm = first_subdir + \"/*.dcm\"\n",
    "    else:\n",
    "        patient_xml = second_subdir + \"/*.xml\"\n",
    "        patient_dcm = second_subdir + \"/*.dcm\"\n",
    "\n",
    "    id = patient_xml.split(\"/\")[5]\n",
    "    \n",
    "    markers = glob(patient_xml)\n",
    "    xml = untangle.parse(markers[0])\n",
    "    coords = []\n",
    "    masks = []\n",
    "    list_z = []\n",
    "    same = []\n",
    "    masks_final = []\n",
    "    sub = []\n",
    "    \n",
    "\n",
    "    print(\"Gerando mascaras do paciente \"+id)\n",
    "    # Acessando os subníveis do xml para adquirir os pontos (x, y, z)\n",
    "    for rs in xml.children[0].readingSession:     \n",
    "        for urn in rs.unblindedReadNodule:\n",
    "           \n",
    "              for Roi in urn.roi:\n",
    "                  sub_z = []\n",
    "                  fundo = []\n",
    "                  fundo = np.zeros([512, 512], dtype='int')\n",
    "                  z = float(str(Roi.imageZposition.cdata))\n",
    "                  sub_z.append(z)\n",
    "                  sub.append(z)\n",
    "                  for coord in Roi.edgeMap: \n",
    "                      fundo[int(coord.yCoord.cdata), int(coord.xCoord.cdata)] = 1 \n",
    "                  if np.histogram(fundo)[0][-1] != 1:\n",
    "                      if z not in list_z:\n",
    "                        list_z.append(z)\n",
    "                      sub_z.append(z)\n",
    "                      sub.append(binary_fill_holes(fundo))\n",
    "                      masks.append(sub)\n",
    "\n",
    "    # Separa as diferentes máscaras para um mesmo nódulo\n",
    "    for i in list_z:\n",
    "        aux = []\n",
    "        aux.append(i)\n",
    "        for m in masks:\n",
    "            if m[0] == i:\n",
    "                aux.append(m[1])\n",
    "        same.append(aux)\n",
    "\n",
    "    # Seleciona a máscara de maior área\n",
    "    for v in same:\n",
    "        maior = calc_area(v[1])\n",
    "        zp = v[0]\n",
    "        maior_mask = v[1]\n",
    "        for mp in range(2,len(v)):\n",
    "            area = calc_area(v[mp])\n",
    "            if area > maior:\n",
    "                maior = area\n",
    "                maior_mask = v[mp]\n",
    "        masks_final.append([zp, maior_mask])\n",
    "\n",
    "    # Salvando as máscaras\n",
    "    print(\"Salvando mascaras do paciente \"+id)\n",
    "    os.mkdir(output_path+id)\n",
    "    caminho = output_path+id+\"/\"\n",
    "    for mask in masks_final:\n",
    "        np.save(caminho +\"_%s_.npy\" % (str(mask[0])), mask[1])"
   ]
  }
 ],
 "metadata": {
  "kernelspec": {
   "display_name": "Python 3",
   "language": "python",
   "name": "python3"
  },
  "language_info": {
   "codemirror_mode": {
    "name": "ipython",
    "version": 3
   },
   "file_extension": ".py",
   "mimetype": "text/x-python",
   "name": "python",
   "nbconvert_exporter": "python",
   "pygments_lexer": "ipython3",
   "version": "3.7.3"
  }
 },
 "nbformat": 4,
 "nbformat_minor": 2
}
