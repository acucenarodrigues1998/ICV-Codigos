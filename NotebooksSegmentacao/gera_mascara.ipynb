{
 "cells": [
  {
   "cell_type": "code",
   "execution_count": null,
   "metadata": {},
   "outputs": [],
   "source": [
    "import csv\n",
    "import untangle\n",
    "from glob import glob\n",
    "import numpy as np\n",
    "import matplotlib.pyplot as plt\n",
    "from scipy.ndimage.morphology import binary_fill_holes"
   ]
  },
  {
   "cell_type": "code",
   "execution_count": null,
   "metadata": {},
   "outputs": [],
   "source": [
    "data_path = '/media/acucena/Arquivos/Base ICV/LIDC-IDRI/img/LIDC-IDRI/LIDC-IDRI-0091/01-01-2000-CT ANGIO CHEST WWO C-79589/2-BOTTOM TO TOP-78441'\n",
    "path_geral = '/home/acucena/Documentos/UFPI/ICV/Resultado'"
   ]
  },
  {
   "cell_type": "code",
   "execution_count": null,
   "metadata": {},
   "outputs": [],
   "source": [
    "markers = glob(data_path+\"/*.xml\")\n",
    "xml = untangle.parse(markers[0])\n",
    "coords = []\n",
    "masks = []\n",
    "\n",
    "# Acessando os subníveis do xml para adquirir os pontos (x, y, z)\n",
    "for rs in xml.children[0].readingSession:\n",
    "    for urn in rs.unblindedReadNodule:\n",
    "        try:\n",
    "            for Roi in urn.roi:\n",
    "                fundo = []\n",
    "                fundo = np.zeros([512, 512], dtype='int')\n",
    "                z = float(str(Roi.imageZposition.cdata))\n",
    "                sub = []\n",
    "                sub.append(z)\n",
    "                for coord in Roi.edgeMap: \n",
    "                    fundo[int(coord.yCoord.cdata), int(coord.xCoord.cdata)] = 1 \n",
    "                sub.append(binary_fill_holes(fundo))\n",
    "                masks.append(sub)\n",
    "        except:\n",
    "            pass"
   ]
  },
  {
   "cell_type": "code",
   "execution_count": null,
   "metadata": {
    "scrolled": false
   },
   "outputs": [],
   "source": [
    "for mask in masks:\n",
    "    print(mask[0])\n",
    "    plt.imshow(mask[1])\n",
    "    plt.show()"
   ]
  },
  {
   "cell_type": "code",
   "execution_count": null,
   "metadata": {},
   "outputs": [],
   "source": [
    "cont = 1\n",
    "for mask in masks:\n",
    "    \n",
    "    np.save(path_geral + \"/LIDC-IDRI-0072_Masks/\"+str(mask[0])+\"-\"+str(cont)+\".npy\", np.asarray(mask[1]))\n",
    "    cont = cont+1"
   ]
  },
  {
   "cell_type": "code",
   "execution_count": null,
   "metadata": {},
   "outputs": [],
   "source": [
    "fundo = masks[9][1]\n",
    "fundo = fundo + np.where(masks[10][1]==1,1,0)"
   ]
  },
  {
   "cell_type": "code",
   "execution_count": null,
   "metadata": {},
   "outputs": [],
   "source": [
    "plt.imshow(fundo)\n",
    "plt.show()"
   ]
  },
  {
   "cell_type": "code",
   "execution_count": null,
   "metadata": {},
   "outputs": [],
   "source": []
  }
 ],
 "metadata": {
  "kernelspec": {
   "display_name": "Python 3",
   "language": "python",
   "name": "python3"
  },
  "language_info": {
   "codemirror_mode": {
    "name": "ipython",
    "version": 3
   },
   "file_extension": ".py",
   "mimetype": "text/x-python",
   "name": "python",
   "nbconvert_exporter": "python",
   "pygments_lexer": "ipython3",
   "version": "3.7.3"
  }
 },
 "nbformat": 4,
 "nbformat_minor": 2
}
