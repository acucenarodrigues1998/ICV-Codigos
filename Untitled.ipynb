{
 "cells": [
  {
   "cell_type": "code",
   "execution_count": 1,
   "metadata": {},
   "outputs": [],
   "source": [
    "from glob import glob\n",
    "import matplotlib.pyplot as plt\n",
    "import numpy as np"
   ]
  },
  {
   "cell_type": "code",
   "execution_count": 3,
   "metadata": {},
   "outputs": [],
   "source": [
    "path = \"/media/pavic/DISPOSITIVO/RegioesSlic/fullimages_LIDC-IDRI-0091/*\""
   ]
  },
  {
   "cell_type": "code",
   "execution_count": 4,
   "metadata": {},
   "outputs": [],
   "source": [
    "g = glob(path)"
   ]
  },
  {
   "cell_type": "code",
   "execution_count": 5,
   "metadata": {},
   "outputs": [
    {
     "data": {
      "text/plain": [
       "['/media/pavic/DISPOSITIVO/RegioesSlic/fullimages_LIDC-IDRI-0091/slice_0.npy',\n",
       " '/media/pavic/DISPOSITIVO/RegioesSlic/fullimages_LIDC-IDRI-0091/slice_1.npy',\n",
       " '/media/pavic/DISPOSITIVO/RegioesSlic/fullimages_LIDC-IDRI-0091/slice_2.npy',\n",
       " '/media/pavic/DISPOSITIVO/RegioesSlic/fullimages_LIDC-IDRI-0091/slice_3.npy',\n",
       " '/media/pavic/DISPOSITIVO/RegioesSlic/fullimages_LIDC-IDRI-0091/slice_4.npy',\n",
       " '/media/pavic/DISPOSITIVO/RegioesSlic/fullimages_LIDC-IDRI-0091/slice_5.npy',\n",
       " '/media/pavic/DISPOSITIVO/RegioesSlic/fullimages_LIDC-IDRI-0091/slice_6.npy',\n",
       " '/media/pavic/DISPOSITIVO/RegioesSlic/fullimages_LIDC-IDRI-0091/slice_7.npy',\n",
       " '/media/pavic/DISPOSITIVO/RegioesSlic/fullimages_LIDC-IDRI-0091/slice_8.npy',\n",
       " '/media/pavic/DISPOSITIVO/RegioesSlic/fullimages_LIDC-IDRI-0091/slice_9.npy',\n",
       " '/media/pavic/DISPOSITIVO/RegioesSlic/fullimages_LIDC-IDRI-0091/slice_10.npy',\n",
       " '/media/pavic/DISPOSITIVO/RegioesSlic/fullimages_LIDC-IDRI-0091/slice_11.npy',\n",
       " '/media/pavic/DISPOSITIVO/RegioesSlic/fullimages_LIDC-IDRI-0091/slice_12.npy',\n",
       " '/media/pavic/DISPOSITIVO/RegioesSlic/fullimages_LIDC-IDRI-0091/slice_13.npy',\n",
       " '/media/pavic/DISPOSITIVO/RegioesSlic/fullimages_LIDC-IDRI-0091/slice_14.npy',\n",
       " '/media/pavic/DISPOSITIVO/RegioesSlic/fullimages_LIDC-IDRI-0091/slice_15.npy',\n",
       " '/media/pavic/DISPOSITIVO/RegioesSlic/fullimages_LIDC-IDRI-0091/slice_16.npy',\n",
       " '/media/pavic/DISPOSITIVO/RegioesSlic/fullimages_LIDC-IDRI-0091/slice_17.npy',\n",
       " '/media/pavic/DISPOSITIVO/RegioesSlic/fullimages_LIDC-IDRI-0091/slice_18.npy',\n",
       " '/media/pavic/DISPOSITIVO/RegioesSlic/fullimages_LIDC-IDRI-0091/slice_19.npy',\n",
       " '/media/pavic/DISPOSITIVO/RegioesSlic/fullimages_LIDC-IDRI-0091/slice_20.npy',\n",
       " '/media/pavic/DISPOSITIVO/RegioesSlic/fullimages_LIDC-IDRI-0091/slice_21.npy',\n",
       " '/media/pavic/DISPOSITIVO/RegioesSlic/fullimages_LIDC-IDRI-0091/slice_22.npy',\n",
       " '/media/pavic/DISPOSITIVO/RegioesSlic/fullimages_LIDC-IDRI-0091/slice_23.npy',\n",
       " '/media/pavic/DISPOSITIVO/RegioesSlic/fullimages_LIDC-IDRI-0091/slice_24.npy',\n",
       " '/media/pavic/DISPOSITIVO/RegioesSlic/fullimages_LIDC-IDRI-0091/slice_25.npy',\n",
       " '/media/pavic/DISPOSITIVO/RegioesSlic/fullimages_LIDC-IDRI-0091/slice_26.npy',\n",
       " '/media/pavic/DISPOSITIVO/RegioesSlic/fullimages_LIDC-IDRI-0091/slice_27.npy',\n",
       " '/media/pavic/DISPOSITIVO/RegioesSlic/fullimages_LIDC-IDRI-0091/slice_28.npy',\n",
       " '/media/pavic/DISPOSITIVO/RegioesSlic/fullimages_LIDC-IDRI-0091/slice_29.npy',\n",
       " '/media/pavic/DISPOSITIVO/RegioesSlic/fullimages_LIDC-IDRI-0091/slice_30.npy',\n",
       " '/media/pavic/DISPOSITIVO/RegioesSlic/fullimages_LIDC-IDRI-0091/slice_31.npy',\n",
       " '/media/pavic/DISPOSITIVO/RegioesSlic/fullimages_LIDC-IDRI-0091/slice_32.npy',\n",
       " '/media/pavic/DISPOSITIVO/RegioesSlic/fullimages_LIDC-IDRI-0091/slice_33.npy',\n",
       " '/media/pavic/DISPOSITIVO/RegioesSlic/fullimages_LIDC-IDRI-0091/slice_34.npy',\n",
       " '/media/pavic/DISPOSITIVO/RegioesSlic/fullimages_LIDC-IDRI-0091/slice_35.npy',\n",
       " '/media/pavic/DISPOSITIVO/RegioesSlic/fullimages_LIDC-IDRI-0091/slice_36.npy',\n",
       " '/media/pavic/DISPOSITIVO/RegioesSlic/fullimages_LIDC-IDRI-0091/slice_37.npy',\n",
       " '/media/pavic/DISPOSITIVO/RegioesSlic/fullimages_LIDC-IDRI-0091/slice_38.npy',\n",
       " '/media/pavic/DISPOSITIVO/RegioesSlic/fullimages_LIDC-IDRI-0091/slice_39.npy',\n",
       " '/media/pavic/DISPOSITIVO/RegioesSlic/fullimages_LIDC-IDRI-0091/slice_40.npy',\n",
       " '/media/pavic/DISPOSITIVO/RegioesSlic/fullimages_LIDC-IDRI-0091/slice_41.npy',\n",
       " '/media/pavic/DISPOSITIVO/RegioesSlic/fullimages_LIDC-IDRI-0091/slice_42.npy',\n",
       " '/media/pavic/DISPOSITIVO/RegioesSlic/fullimages_LIDC-IDRI-0091/slice_43.npy',\n",
       " '/media/pavic/DISPOSITIVO/RegioesSlic/fullimages_LIDC-IDRI-0091/slice_44.npy',\n",
       " '/media/pavic/DISPOSITIVO/RegioesSlic/fullimages_LIDC-IDRI-0091/slice_45.npy',\n",
       " '/media/pavic/DISPOSITIVO/RegioesSlic/fullimages_LIDC-IDRI-0091/slice_46.npy',\n",
       " '/media/pavic/DISPOSITIVO/RegioesSlic/fullimages_LIDC-IDRI-0091/slice_47.npy',\n",
       " '/media/pavic/DISPOSITIVO/RegioesSlic/fullimages_LIDC-IDRI-0091/slice_48.npy',\n",
       " '/media/pavic/DISPOSITIVO/RegioesSlic/fullimages_LIDC-IDRI-0091/slice_49.npy',\n",
       " '/media/pavic/DISPOSITIVO/RegioesSlic/fullimages_LIDC-IDRI-0091/slice_50.npy',\n",
       " '/media/pavic/DISPOSITIVO/RegioesSlic/fullimages_LIDC-IDRI-0091/slice_51.npy',\n",
       " '/media/pavic/DISPOSITIVO/RegioesSlic/fullimages_LIDC-IDRI-0091/slice_52.npy',\n",
       " '/media/pavic/DISPOSITIVO/RegioesSlic/fullimages_LIDC-IDRI-0091/slice_53.npy',\n",
       " '/media/pavic/DISPOSITIVO/RegioesSlic/fullimages_LIDC-IDRI-0091/slice_54.npy',\n",
       " '/media/pavic/DISPOSITIVO/RegioesSlic/fullimages_LIDC-IDRI-0091/slice_55.npy',\n",
       " '/media/pavic/DISPOSITIVO/RegioesSlic/fullimages_LIDC-IDRI-0091/slice_56.npy',\n",
       " '/media/pavic/DISPOSITIVO/RegioesSlic/fullimages_LIDC-IDRI-0091/slice_57.npy',\n",
       " '/media/pavic/DISPOSITIVO/RegioesSlic/fullimages_LIDC-IDRI-0091/slice_58.npy',\n",
       " '/media/pavic/DISPOSITIVO/RegioesSlic/fullimages_LIDC-IDRI-0091/slice_59.npy',\n",
       " '/media/pavic/DISPOSITIVO/RegioesSlic/fullimages_LIDC-IDRI-0091/slice_60.npy',\n",
       " '/media/pavic/DISPOSITIVO/RegioesSlic/fullimages_LIDC-IDRI-0091/slice_61.npy',\n",
       " '/media/pavic/DISPOSITIVO/RegioesSlic/fullimages_LIDC-IDRI-0091/slice_62.npy',\n",
       " '/media/pavic/DISPOSITIVO/RegioesSlic/fullimages_LIDC-IDRI-0091/slice_63.npy',\n",
       " '/media/pavic/DISPOSITIVO/RegioesSlic/fullimages_LIDC-IDRI-0091/slice_64.npy',\n",
       " '/media/pavic/DISPOSITIVO/RegioesSlic/fullimages_LIDC-IDRI-0091/slice_65.npy',\n",
       " '/media/pavic/DISPOSITIVO/RegioesSlic/fullimages_LIDC-IDRI-0091/slice_66.npy',\n",
       " '/media/pavic/DISPOSITIVO/RegioesSlic/fullimages_LIDC-IDRI-0091/slice_67.npy',\n",
       " '/media/pavic/DISPOSITIVO/RegioesSlic/fullimages_LIDC-IDRI-0091/slice_68.npy',\n",
       " '/media/pavic/DISPOSITIVO/RegioesSlic/fullimages_LIDC-IDRI-0091/slice_69.npy',\n",
       " '/media/pavic/DISPOSITIVO/RegioesSlic/fullimages_LIDC-IDRI-0091/slice_70.npy',\n",
       " '/media/pavic/DISPOSITIVO/RegioesSlic/fullimages_LIDC-IDRI-0091/slice_71.npy',\n",
       " '/media/pavic/DISPOSITIVO/RegioesSlic/fullimages_LIDC-IDRI-0091/slice_72.npy',\n",
       " '/media/pavic/DISPOSITIVO/RegioesSlic/fullimages_LIDC-IDRI-0091/slice_73.npy',\n",
       " '/media/pavic/DISPOSITIVO/RegioesSlic/fullimages_LIDC-IDRI-0091/slice_74.npy',\n",
       " '/media/pavic/DISPOSITIVO/RegioesSlic/fullimages_LIDC-IDRI-0091/slice_75.npy',\n",
       " '/media/pavic/DISPOSITIVO/RegioesSlic/fullimages_LIDC-IDRI-0091/slice_76.npy',\n",
       " '/media/pavic/DISPOSITIVO/RegioesSlic/fullimages_LIDC-IDRI-0091/slice_77.npy',\n",
       " '/media/pavic/DISPOSITIVO/RegioesSlic/fullimages_LIDC-IDRI-0091/slice_78.npy',\n",
       " '/media/pavic/DISPOSITIVO/RegioesSlic/fullimages_LIDC-IDRI-0091/slice_79.npy',\n",
       " '/media/pavic/DISPOSITIVO/RegioesSlic/fullimages_LIDC-IDRI-0091/slice_80.npy',\n",
       " '/media/pavic/DISPOSITIVO/RegioesSlic/fullimages_LIDC-IDRI-0091/slice_81.npy',\n",
       " '/media/pavic/DISPOSITIVO/RegioesSlic/fullimages_LIDC-IDRI-0091/slice_82.npy',\n",
       " '/media/pavic/DISPOSITIVO/RegioesSlic/fullimages_LIDC-IDRI-0091/slice_83.npy',\n",
       " '/media/pavic/DISPOSITIVO/RegioesSlic/fullimages_LIDC-IDRI-0091/slice_84.npy',\n",
       " '/media/pavic/DISPOSITIVO/RegioesSlic/fullimages_LIDC-IDRI-0091/slice_85.npy',\n",
       " '/media/pavic/DISPOSITIVO/RegioesSlic/fullimages_LIDC-IDRI-0091/slice_86.npy',\n",
       " '/media/pavic/DISPOSITIVO/RegioesSlic/fullimages_LIDC-IDRI-0091/slice_87.npy',\n",
       " '/media/pavic/DISPOSITIVO/RegioesSlic/fullimages_LIDC-IDRI-0091/slice_88.npy',\n",
       " '/media/pavic/DISPOSITIVO/RegioesSlic/fullimages_LIDC-IDRI-0091/slice_89.npy',\n",
       " '/media/pavic/DISPOSITIVO/RegioesSlic/fullimages_LIDC-IDRI-0091/slice_90.npy',\n",
       " '/media/pavic/DISPOSITIVO/RegioesSlic/fullimages_LIDC-IDRI-0091/slice_91.npy',\n",
       " '/media/pavic/DISPOSITIVO/RegioesSlic/fullimages_LIDC-IDRI-0091/slice_92.npy',\n",
       " '/media/pavic/DISPOSITIVO/RegioesSlic/fullimages_LIDC-IDRI-0091/slice_93.npy',\n",
       " '/media/pavic/DISPOSITIVO/RegioesSlic/fullimages_LIDC-IDRI-0091/slice_94.npy',\n",
       " '/media/pavic/DISPOSITIVO/RegioesSlic/fullimages_LIDC-IDRI-0091/slice_95.npy',\n",
       " '/media/pavic/DISPOSITIVO/RegioesSlic/fullimages_LIDC-IDRI-0091/slice_96.npy',\n",
       " '/media/pavic/DISPOSITIVO/RegioesSlic/fullimages_LIDC-IDRI-0091/slice_97.npy',\n",
       " '/media/pavic/DISPOSITIVO/RegioesSlic/fullimages_LIDC-IDRI-0091/slice_98.npy',\n",
       " '/media/pavic/DISPOSITIVO/RegioesSlic/fullimages_LIDC-IDRI-0091/slice_99.npy',\n",
       " '/media/pavic/DISPOSITIVO/RegioesSlic/fullimages_LIDC-IDRI-0091/slice_100.npy',\n",
       " '/media/pavic/DISPOSITIVO/RegioesSlic/fullimages_LIDC-IDRI-0091/slice_101.npy',\n",
       " '/media/pavic/DISPOSITIVO/RegioesSlic/fullimages_LIDC-IDRI-0091/slice_102.npy',\n",
       " '/media/pavic/DISPOSITIVO/RegioesSlic/fullimages_LIDC-IDRI-0091/slice_103.npy',\n",
       " '/media/pavic/DISPOSITIVO/RegioesSlic/fullimages_LIDC-IDRI-0091/slice_104.npy',\n",
       " '/media/pavic/DISPOSITIVO/RegioesSlic/fullimages_LIDC-IDRI-0091/slice_105.npy',\n",
       " '/media/pavic/DISPOSITIVO/RegioesSlic/fullimages_LIDC-IDRI-0091/slice_106.npy',\n",
       " '/media/pavic/DISPOSITIVO/RegioesSlic/fullimages_LIDC-IDRI-0091/slice_107.npy',\n",
       " '/media/pavic/DISPOSITIVO/RegioesSlic/fullimages_LIDC-IDRI-0091/slice_108.npy',\n",
       " '/media/pavic/DISPOSITIVO/RegioesSlic/fullimages_LIDC-IDRI-0091/slice_109.npy',\n",
       " '/media/pavic/DISPOSITIVO/RegioesSlic/fullimages_LIDC-IDRI-0091/slice_110.npy',\n",
       " '/media/pavic/DISPOSITIVO/RegioesSlic/fullimages_LIDC-IDRI-0091/slice_111.npy',\n",
       " '/media/pavic/DISPOSITIVO/RegioesSlic/fullimages_LIDC-IDRI-0091/slice_112.npy',\n",
       " '/media/pavic/DISPOSITIVO/RegioesSlic/fullimages_LIDC-IDRI-0091/slice_113.npy',\n",
       " '/media/pavic/DISPOSITIVO/RegioesSlic/fullimages_LIDC-IDRI-0091/slice_114.npy',\n",
       " '/media/pavic/DISPOSITIVO/RegioesSlic/fullimages_LIDC-IDRI-0091/slice_115.npy',\n",
       " '/media/pavic/DISPOSITIVO/RegioesSlic/fullimages_LIDC-IDRI-0091/slice_116.npy',\n",
       " '/media/pavic/DISPOSITIVO/RegioesSlic/fullimages_LIDC-IDRI-0091/slice_117.npy',\n",
       " '/media/pavic/DISPOSITIVO/RegioesSlic/fullimages_LIDC-IDRI-0091/slice_118.npy',\n",
       " '/media/pavic/DISPOSITIVO/RegioesSlic/fullimages_LIDC-IDRI-0091/slice_119.npy',\n",
       " '/media/pavic/DISPOSITIVO/RegioesSlic/fullimages_LIDC-IDRI-0091/slice_120.npy',\n",
       " '/media/pavic/DISPOSITIVO/RegioesSlic/fullimages_LIDC-IDRI-0091/slice_121.npy',\n",
       " '/media/pavic/DISPOSITIVO/RegioesSlic/fullimages_LIDC-IDRI-0091/slice_122.npy',\n",
       " '/media/pavic/DISPOSITIVO/RegioesSlic/fullimages_LIDC-IDRI-0091/slice_123.npy',\n",
       " '/media/pavic/DISPOSITIVO/RegioesSlic/fullimages_LIDC-IDRI-0091/slice_124.npy',\n",
       " '/media/pavic/DISPOSITIVO/RegioesSlic/fullimages_LIDC-IDRI-0091/slice_125.npy',\n",
       " '/media/pavic/DISPOSITIVO/RegioesSlic/fullimages_LIDC-IDRI-0091/slice_126.npy',\n",
       " '/media/pavic/DISPOSITIVO/RegioesSlic/fullimages_LIDC-IDRI-0091/slice_127.npy',\n",
       " '/media/pavic/DISPOSITIVO/RegioesSlic/fullimages_LIDC-IDRI-0091/slice_128.npy',\n",
       " '/media/pavic/DISPOSITIVO/RegioesSlic/fullimages_LIDC-IDRI-0091/slice_129.npy',\n",
       " '/media/pavic/DISPOSITIVO/RegioesSlic/fullimages_LIDC-IDRI-0091/slice_130.npy',\n",
       " '/media/pavic/DISPOSITIVO/RegioesSlic/fullimages_LIDC-IDRI-0091/slice_131.npy',\n",
       " '/media/pavic/DISPOSITIVO/RegioesSlic/fullimages_LIDC-IDRI-0091/slice_132.npy',\n",
       " '/media/pavic/DISPOSITIVO/RegioesSlic/fullimages_LIDC-IDRI-0091/slice_133.npy',\n",
       " '/media/pavic/DISPOSITIVO/RegioesSlic/fullimages_LIDC-IDRI-0091/slice_134.npy',\n",
       " '/media/pavic/DISPOSITIVO/RegioesSlic/fullimages_LIDC-IDRI-0091/slice_135.npy',\n",
       " '/media/pavic/DISPOSITIVO/RegioesSlic/fullimages_LIDC-IDRI-0091/slice_136.npy',\n",
       " '/media/pavic/DISPOSITIVO/RegioesSlic/fullimages_LIDC-IDRI-0091/slice_137.npy',\n",
       " '/media/pavic/DISPOSITIVO/RegioesSlic/fullimages_LIDC-IDRI-0091/slice_138.npy',\n",
       " '/media/pavic/DISPOSITIVO/RegioesSlic/fullimages_LIDC-IDRI-0091/slice_139.npy',\n",
       " '/media/pavic/DISPOSITIVO/RegioesSlic/fullimages_LIDC-IDRI-0091/slice_140.npy',\n",
       " '/media/pavic/DISPOSITIVO/RegioesSlic/fullimages_LIDC-IDRI-0091/slice_141.npy',\n",
       " '/media/pavic/DISPOSITIVO/RegioesSlic/fullimages_LIDC-IDRI-0091/slice_142.npy',\n",
       " '/media/pavic/DISPOSITIVO/RegioesSlic/fullimages_LIDC-IDRI-0091/slice_143.npy',\n",
       " '/media/pavic/DISPOSITIVO/RegioesSlic/fullimages_LIDC-IDRI-0091/slice_144.npy',\n",
       " '/media/pavic/DISPOSITIVO/RegioesSlic/fullimages_LIDC-IDRI-0091/slice_145.npy',\n",
       " '/media/pavic/DISPOSITIVO/RegioesSlic/fullimages_LIDC-IDRI-0091/slice_146.npy',\n",
       " '/media/pavic/DISPOSITIVO/RegioesSlic/fullimages_LIDC-IDRI-0091/slice_147.npy',\n",
       " '/media/pavic/DISPOSITIVO/RegioesSlic/fullimages_LIDC-IDRI-0091/slice_148.npy',\n",
       " '/media/pavic/DISPOSITIVO/RegioesSlic/fullimages_LIDC-IDRI-0091/slice_149.npy',\n",
       " '/media/pavic/DISPOSITIVO/RegioesSlic/fullimages_LIDC-IDRI-0091/slice_150.npy',\n",
       " '/media/pavic/DISPOSITIVO/RegioesSlic/fullimages_LIDC-IDRI-0091/slice_151.npy',\n",
       " '/media/pavic/DISPOSITIVO/RegioesSlic/fullimages_LIDC-IDRI-0091/slice_152.npy',\n",
       " '/media/pavic/DISPOSITIVO/RegioesSlic/fullimages_LIDC-IDRI-0091/slice_153.npy',\n",
       " '/media/pavic/DISPOSITIVO/RegioesSlic/fullimages_LIDC-IDRI-0091/slice_154.npy',\n",
       " '/media/pavic/DISPOSITIVO/RegioesSlic/fullimages_LIDC-IDRI-0091/slice_155.npy',\n",
       " '/media/pavic/DISPOSITIVO/RegioesSlic/fullimages_LIDC-IDRI-0091/slice_156.npy',\n",
       " '/media/pavic/DISPOSITIVO/RegioesSlic/fullimages_LIDC-IDRI-0091/slice_157.npy',\n",
       " '/media/pavic/DISPOSITIVO/RegioesSlic/fullimages_LIDC-IDRI-0091/slice_158.npy',\n",
       " '/media/pavic/DISPOSITIVO/RegioesSlic/fullimages_LIDC-IDRI-0091/slice_159.npy',\n",
       " '/media/pavic/DISPOSITIVO/RegioesSlic/fullimages_LIDC-IDRI-0091/slice_160.npy',\n",
       " '/media/pavic/DISPOSITIVO/RegioesSlic/fullimages_LIDC-IDRI-0091/slice_161.npy',\n",
       " '/media/pavic/DISPOSITIVO/RegioesSlic/fullimages_LIDC-IDRI-0091/slice_162.npy',\n",
       " '/media/pavic/DISPOSITIVO/RegioesSlic/fullimages_LIDC-IDRI-0091/slice_163.npy',\n",
       " '/media/pavic/DISPOSITIVO/RegioesSlic/fullimages_LIDC-IDRI-0091/slice_164.npy',\n",
       " '/media/pavic/DISPOSITIVO/RegioesSlic/fullimages_LIDC-IDRI-0091/slice_165.npy',\n",
       " '/media/pavic/DISPOSITIVO/RegioesSlic/fullimages_LIDC-IDRI-0091/slice_166.npy',\n",
       " '/media/pavic/DISPOSITIVO/RegioesSlic/fullimages_LIDC-IDRI-0091/slice_167.npy',\n",
       " '/media/pavic/DISPOSITIVO/RegioesSlic/fullimages_LIDC-IDRI-0091/slice_168.npy',\n",
       " '/media/pavic/DISPOSITIVO/RegioesSlic/fullimages_LIDC-IDRI-0091/slice_169.npy',\n",
       " '/media/pavic/DISPOSITIVO/RegioesSlic/fullimages_LIDC-IDRI-0091/slice_170.npy',\n",
       " '/media/pavic/DISPOSITIVO/RegioesSlic/fullimages_LIDC-IDRI-0091/slice_171.npy',\n",
       " '/media/pavic/DISPOSITIVO/RegioesSlic/fullimages_LIDC-IDRI-0091/slice_172.npy',\n",
       " '/media/pavic/DISPOSITIVO/RegioesSlic/fullimages_LIDC-IDRI-0091/slice_173.npy',\n",
       " '/media/pavic/DISPOSITIVO/RegioesSlic/fullimages_LIDC-IDRI-0091/slice_174.npy',\n",
       " '/media/pavic/DISPOSITIVO/RegioesSlic/fullimages_LIDC-IDRI-0091/slice_175.npy',\n",
       " '/media/pavic/DISPOSITIVO/RegioesSlic/fullimages_LIDC-IDRI-0091/slice_176.npy',\n",
       " '/media/pavic/DISPOSITIVO/RegioesSlic/fullimages_LIDC-IDRI-0091/slice_177.npy',\n",
       " '/media/pavic/DISPOSITIVO/RegioesSlic/fullimages_LIDC-IDRI-0091/slice_178.npy',\n",
       " '/media/pavic/DISPOSITIVO/RegioesSlic/fullimages_LIDC-IDRI-0091/slice_179.npy',\n",
       " '/media/pavic/DISPOSITIVO/RegioesSlic/fullimages_LIDC-IDRI-0091/slice_180.npy',\n",
       " '/media/pavic/DISPOSITIVO/RegioesSlic/fullimages_LIDC-IDRI-0091/slice_181.npy',\n",
       " '/media/pavic/DISPOSITIVO/RegioesSlic/fullimages_LIDC-IDRI-0091/slice_182.npy',\n",
       " '/media/pavic/DISPOSITIVO/RegioesSlic/fullimages_LIDC-IDRI-0091/slice_183.npy',\n",
       " '/media/pavic/DISPOSITIVO/RegioesSlic/fullimages_LIDC-IDRI-0091/slice_184.npy',\n",
       " '/media/pavic/DISPOSITIVO/RegioesSlic/fullimages_LIDC-IDRI-0091/slice_185.npy',\n",
       " '/media/pavic/DISPOSITIVO/RegioesSlic/fullimages_LIDC-IDRI-0091/slice_186.npy',\n",
       " '/media/pavic/DISPOSITIVO/RegioesSlic/fullimages_LIDC-IDRI-0091/slice_187.npy',\n",
       " '/media/pavic/DISPOSITIVO/RegioesSlic/fullimages_LIDC-IDRI-0091/slice_188.npy',\n",
       " '/media/pavic/DISPOSITIVO/RegioesSlic/fullimages_LIDC-IDRI-0091/slice_189.npy',\n",
       " '/media/pavic/DISPOSITIVO/RegioesSlic/fullimages_LIDC-IDRI-0091/slice_190.npy',\n",
       " '/media/pavic/DISPOSITIVO/RegioesSlic/fullimages_LIDC-IDRI-0091/slice_191.npy',\n",
       " '/media/pavic/DISPOSITIVO/RegioesSlic/fullimages_LIDC-IDRI-0091/slice_192.npy',\n",
       " '/media/pavic/DISPOSITIVO/RegioesSlic/fullimages_LIDC-IDRI-0091/slice_193.npy',\n",
       " '/media/pavic/DISPOSITIVO/RegioesSlic/fullimages_LIDC-IDRI-0091/slice_194.npy',\n",
       " '/media/pavic/DISPOSITIVO/RegioesSlic/fullimages_LIDC-IDRI-0091/slice_195.npy',\n",
       " '/media/pavic/DISPOSITIVO/RegioesSlic/fullimages_LIDC-IDRI-0091/slice_196.npy']"
      ]
     },
     "execution_count": 5,
     "metadata": {},
     "output_type": "execute_result"
    }
   ],
   "source": [
    "g"
   ]
  },
  {
   "cell_type": "code",
   "execution_count": 17,
   "metadata": {},
   "outputs": [
    {
     "name": "stdout",
     "output_type": "stream",
     "text": [
      "-70.75\n",
      "\n"
     ]
    }
   ],
   "source": [
    "img = np.load(g[162],allow_pickle=True)\n",
    "id = img[-1]\n",
    "print(id)"
   ]
  },
  {
   "cell_type": "code",
   "execution_count": 26,
   "metadata": {},
   "outputs": [
    {
     "data": {
      "text/plain": [
       "-798.0"
      ]
     },
     "execution_count": 26,
     "metadata": {},
     "output_type": "execute_result"
    }
   ],
   "source": [
    "np.min(img[0])"
   ]
  },
  {
   "cell_type": "code",
   "execution_count": 27,
   "metadata": {},
   "outputs": [
    {
     "data": {
      "text/plain": [
       "535.0"
      ]
     },
     "execution_count": 27,
     "metadata": {},
     "output_type": "execute_result"
    }
   ],
   "source": [
    "np.max(img[0])"
   ]
  },
  {
   "cell_type": "code",
   "execution_count": 21,
   "metadata": {},
   "outputs": [
    {
     "data": {
      "image/png": "[encoded data removed]",
      "text/plain": [
       "<Figure size 432x288 with 1 Axes>"
      ]
     },
     "metadata": {
      "needs_background": "light"
     },
     "output_type": "display_data"
    },
    {
     "data": {
      "image/png": "[encoded data removed]",
      "text/plain": [
       "<Figure size 432x288 with 1 Axes>"
      ]
     },
     "metadata": {
      "needs_background": "light"
     },
     "output_type": "display_data"
    },
    {
     "data": {
      "image/png": "[encoded data removed]",
      "text/plain": [
       "<Figure size 432x288 with 1 Axes>"
      ]
     },
     "metadata": {
      "needs_background": "light"
     },
     "output_type": "display_data"
    },
    {
     "data": {
      "image/png": "[encoded data removed]",
      "text/plain": [
       "<Figure size 432x288 with 1 Axes>"
      ]
     },
     "metadata": {
      "needs_background": "light"
     },
     "output_type": "display_data"
    },
    {
     "data": {
      "image/png": "[encoded data removed]",
      "text/plain": [
       "<Figure size 432x288 with 1 Axes>"
      ]
     },
     "metadata": {
      "needs_background": "light"
     },
     "output_type": "display_data"
    },
    {
     "data": {
      "image/png": "[encoded data removed]",
      "text/plain": [
       "<Figure size 432x288 with 1 Axes>"
      ]
     },
     "metadata": {
      "needs_background": "light"
     },
     "output_type": "display_data"
    }
   ],
   "source": [
    "for i in img:\n",
    "    try:\n",
    "        plt.imshow(i, cmap='gray')\n",
    "        plt.show()\n",
    "    except:\n",
    "        pass"
   ]
  },
  {
   "cell_type": "code",
   "execution_count": null,
   "metadata": {},
   "outputs": [],
   "source": []
  }
 ],
 "metadata": {
  "kernelspec": {
   "display_name": "Python 3",
   "language": "python",
   "name": "python3"
  },
  "language_info": {
   "codemirror_mode": {
    "name": "ipython",
    "version": 3
   },
   "file_extension": ".py",
   "mimetype": "text/x-python",
   "name": "python",
   "nbconvert_exporter": "python",
   "pygments_lexer": "ipython3",
   "version": "3.7.3"
  }
 },
 "nbformat": 4,
 "nbformat_minor": 4
}
