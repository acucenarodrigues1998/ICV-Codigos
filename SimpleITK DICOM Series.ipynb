{
 "cells": [
  {
   "cell_type": "code",
   "execution_count": 1,
   "metadata": {},
   "outputs": [],
   "source": [
    "from __future__ import print_function\n",
    "\n",
    "import SimpleITK as sitk\n",
    "\n",
    "import sys, time, os\n"
   ]
  },
  {
   "cell_type": "code",
   "execution_count": 12,
   "metadata": {},
   "outputs": [],
   "source": [
    "if len( sys.argv ) < 3:\n",
    "    print( \"Usage: python \" + __file__ + \"/Documentos/UFPI/ICV/LIDC-IDRI-0001/01-01-2000-30178/3000566-03192/ /home/acucena/Documentos/UFPI/ICV/Resultado/\" )\n",
    "    sys.exit ( 1 )"
   ]
  },
  {
   "cell_type": "code",
   "execution_count": 2,
   "metadata": {},
   "outputs": [],
   "source": [
    "# Read the original series. First obtain the series file names using the\n",
    "# image series reader.\n",
    "data_directory = \"Documentos/UFPI/ICV/LIDC-IDRI-0001/01-01-2000-30178/3000566-03192/\"\n",
    "series_IDs = sitk.ImageSeriesReader.GetGDCMSeriesIDs(data_directory)\n",
    "if not series_IDs:\n",
    "    print(\"ERROR: given directory \\\"\"+data_directory+\"\\\" does not contain a DICOM series.\")\n",
    "    sys.exit(1)\n",
    "series_file_names = sitk.ImageSeriesReader.GetGDCMSeriesFileNames(data_directory, series_IDs[0])\n",
    "\n",
    "series_reader = sitk.ImageSeriesReader()\n",
    "series_reader.SetFileNames(series_file_names)"
   ]
  },
  {
   "cell_type": "code",
   "execution_count": 5,
   "metadata": {},
   "outputs": [],
   "source": [
    "# Configure the reader to load all of the DICOM tags (public+private):\n",
    "# By default tags are not loaded (saves time).\n",
    "# By default if tags are loaded, the private tags are not loaded.\n",
    "# We explicitly configure the reader to load tags, including the\n",
    "# private ones.\n",
    "series_reader.MetaDataDictionaryArrayUpdateOn()\n",
    "series_reader.LoadPrivateTagsOn()\n",
    "image3D = series_reader.Execute()"
   ]
  },
  {
   "cell_type": "code",
   "execution_count": null,
   "metadata": {},
   "outputs": [],
   "source": []
  },
  {
   "cell_type": "code",
   "execution_count": null,
   "metadata": {},
   "outputs": [],
   "source": []
  }
 ],
 "metadata": {
  "kernelspec": {
   "display_name": "Python 3",
   "language": "python",
   "name": "python3"
  },
  "language_info": {
   "codemirror_mode": {
    "name": "ipython",
    "version": 3
   },
   "file_extension": ".py",
   "mimetype": "text/x-python",
   "name": "python",
   "nbconvert_exporter": "python",
   "pygments_lexer": "ipython3",
   "version": "3.6.8"
  }
 },
 "nbformat": 4,
 "nbformat_minor": 2
}
