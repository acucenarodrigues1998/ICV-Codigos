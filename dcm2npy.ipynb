{
 "cells": [
  {
   "cell_type": "code",
   "execution_count": 1,
   "metadata": {},
   "outputs": [],
   "source": [
    "import pydicom\n",
    "from glob import glob\n",
    "import os, os.path\n",
    "import numpy as np\n",
    "from matplotlib import pyplot as plt"
   ]
  },
  {
   "cell_type": "code",
   "execution_count": 2,
   "metadata": {},
   "outputs": [],
   "source": [
    "image_directory = \"/media/acucena/Arquivos/Base ICV/LIDC-IDRI/img/teste/*\"\n",
    "output_path = \"/media/acucena/Arquivos/Base ICV/NPY/\"\n",
    "path_to_images = glob(image_directory)"
   ]
  },
  {
   "cell_type": "code",
   "execution_count": 3,
   "metadata": {},
   "outputs": [],
   "source": [
    "largest_stack = 0"
   ]
  },
  {
   "cell_type": "code",
   "execution_count": 4,
   "metadata": {},
   "outputs": [
    {
     "name": "stdout",
     "output_type": "stream",
     "text": [
      "Patient: LIDC-IDRI-0013 converted and saved to npy\n",
      "Patient: LIDC-IDRI-0071 converted and saved to npy\n"
     ]
    }
   ],
   "source": [
    "for patient in path_to_images:\n",
    "    subdirs = glob(patient + \"/*\")\n",
    "    # 1st Branch\n",
    "    first_subdir = glob(subdirs[0]+\"/*\")[0]\n",
    "    first_len = len([name for name in os.listdir(first_subdir + \"/\")])\n",
    "    # 2nd Branch\n",
    "    second_subdir = glob(subdirs[-1] + \"/*\")[0]\n",
    "    second_len = len([name for name in os.listdir(second_subdir + \"/\")])\n",
    "\n",
    "    # If 1st longer then build structure from 1st data\n",
    "    # If 2nd longer then build structure from 2nd data\n",
    "    if first_len > second_len:\n",
    "        patient_image_folder = first_subdir + \"/*dcm\"\n",
    "    else:\n",
    "        patient_image_folder = second_subdir + \"/*.dcm\"\n",
    "    image_stack = []\n",
    "    cur_stack_size = 0\n",
    "    for image in glob(patient_image_folder):\n",
    "        # Read in each image and construct 3d arrays\n",
    "        ds = pydicom.dcmread(image)\n",
    "        image_stack.append([ds.pixel_array, ds.SliceLocation, ds.InstanceNumber, \n",
    "                            ds.RescaleIntercept, ds.RescaleSlope])\n",
    "        cur_stack_size = cur_stack_size + 1\n",
    "    # Keep track of largest num of slices for zero pad\n",
    "    if cur_stack_size > largest_stack:\n",
    "        largest_stack = cur_stack_size\n",
    "    patient_array = np.asarray(image_stack)\n",
    "    id = patient.split(\"/\")[8]\n",
    "    np.save(output_path + \"%s.npy\" % (id), patient_array)\n",
    "    print(\"Patient: \" + id + \" converted and saved to npy\")"
   ]
  },
  {
   "cell_type": "code",
   "execution_count": null,
   "metadata": {},
   "outputs": [],
   "source": []
  },
  {
   "cell_type": "code",
   "execution_count": null,
   "metadata": {},
   "outputs": [],
   "source": []
  },
  {
   "cell_type": "code",
   "execution_count": null,
   "metadata": {},
   "outputs": [],
   "source": []
  }
 ],
 "metadata": {
  "kernelspec": {
   "display_name": "Python 3",
   "language": "python",
   "name": "python3"
  },
  "language_info": {
   "codemirror_mode": {
    "name": "ipython",
    "version": 3
   },
   "file_extension": ".py",
   "mimetype": "text/x-python",
   "name": "python",
   "nbconvert_exporter": "python",
   "pygments_lexer": "ipython3",
   "version": "3.6.8"
  }
 },
 "nbformat": 4,
 "nbformat_minor": 2
}
