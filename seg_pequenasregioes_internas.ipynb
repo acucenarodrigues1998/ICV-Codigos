{
 "cells": [
  {
   "cell_type": "code",
   "execution_count": 1,
   "metadata": {},
   "outputs": [],
   "source": [
    "from glob import glob\n",
    "import numpy as np\n",
    "import matplotlib.pyplot as plt\n",
    "from sklearn.cluster import KMeans\n",
    "from skimage.morphology import opening, dilation\n",
    "from skimage.measure import label, regionprops\n",
    "from skimage.filters import threshold_otsu\n",
    "import cv2"
   ]
  },
  {
   "cell_type": "code",
   "execution_count": 2,
   "metadata": {},
   "outputs": [],
   "source": [
    "output_path = working_path = \"/home/acucena/Documentos/UFPI/ICV/Resultado/\"\n",
    "\n",
    "#g = glob(output_path + 'maskedimages_*.npy')\n",
    "#imgs = np.load(g[3])"
   ]
  },
  {
   "cell_type": "code",
   "execution_count": 77,
   "metadata": {},
   "outputs": [],
   "source": [
    "img = imgs[162][0]\n",
    "imgf = img.astype(np.float32)"
   ]
  },
  {
   "cell_type": "code",
   "execution_count": 78,
   "metadata": {},
   "outputs": [],
   "source": [
    "coords_pix = np.where(imgf>0)"
   ]
  },
  {
   "cell_type": "code",
   "execution_count": 3,
   "metadata": {},
   "outputs": [],
   "source": [
    "g = glob(output_path + '*.npy')\n"
   ]
  },
  {
   "cell_type": "code",
   "execution_count": 4,
   "metadata": {},
   "outputs": [
    {
     "data": {
      "text/plain": [
       "['/home/acucena/Documentos/UFPI/ICV/Resultado/fullimages_LIDC-IDRI-0091.npy',\n",
       " '/home/acucena/Documentos/UFPI/ICV/Resultado/SliceRegions_LIDC-IDRI-0091.npy',\n",
       " '/home/acucena/Documentos/UFPI/ICV/Resultado/maskedimages_LIDC-IDRI-0090.npy',\n",
       " '/home/acucena/Documentos/UFPI/ICV/Resultado/maskedimages_LIDC-IDRI-0088.npy',\n",
       " '/home/acucena/Documentos/UFPI/ICV/Resultado/maskedimages_LIDC-IDRI-0072.npy',\n",
       " '/home/acucena/Documentos/UFPI/ICV/Resultado/fullimages_LIDC-IDRI-0072.npy',\n",
       " '/home/acucena/Documentos/UFPI/ICV/Resultado/fullimages_LIDC-IDRI-0090.npy',\n",
       " '/home/acucena/Documentos/UFPI/ICV/Resultado/fullimages_LIDC-IDRI-0088.npy',\n",
       " '/home/acucena/Documentos/UFPI/ICV/Resultado/maskedimages_LIDC-IDRI-0091.npy']"
      ]
     },
     "execution_count": 4,
     "metadata": {},
     "output_type": "execute_result"
    }
   ],
   "source": [
    "g"
   ]
  },
  {
   "cell_type": "code",
   "execution_count": 5,
   "metadata": {},
   "outputs": [],
   "source": [
    "imgs = np.load(g[8])"
   ]
  },
  {
   "cell_type": "code",
   "execution_count": null,
   "metadata": {},
   "outputs": [],
   "source": []
  },
  {
   "cell_type": "code",
   "execution_count": null,
   "metadata": {},
   "outputs": [],
   "source": [
    "\n"
   ]
  },
  {
   "cell_type": "code",
   "execution_count": null,
   "metadata": {},
   "outputs": [],
   "source": []
  },
  {
   "cell_type": "code",
   "execution_count": 7,
   "metadata": {},
   "outputs": [
    {
     "name": "stdout",
     "output_type": "stream",
     "text": [
      "-70.75\n"
     ]
    },
    {
     "data": {
      "image/png": "[encoded data removed]",
      "text/plain": [
       "<Figure size 432x288 with 1 Axes>"
      ]
     },
     "metadata": {
      "needs_background": "light"
     },
     "output_type": "display_data"
    }
   ],
   "source": [
    "print(imgs[162][1])\n",
    "plt.imshow(imgs[162][0], cmap='gray')\n",
    "plt.show()"
   ]
  },
  {
   "cell_type": "code",
   "execution_count": 106,
   "metadata": {},
   "outputs": [],
   "source": [
    "def seleciona_pixels_significativos(median, coords_pix):\n",
    "    pix_list = []\n",
    "    for i in range(len(coords_pix[0])):\n",
    "        idx = coords_pix[0][i]\n",
    "        idy = coords_pix[1][i]\n",
    "        pix_list.append(median[idx][idy])\n",
    "    return np.array(pix_list).reshape(-1,1)"
   ]
  },
  {
   "cell_type": "code",
   "execution_count": 119,
   "metadata": {},
   "outputs": [],
   "source": [
    "def adiciona_labels_regioes(median, label, coords_pix):\n",
    "    cont = 0\n",
    "    fundo = np.zeros([512,512])\n",
    "    for i in range(len(coords_pix[0])):\n",
    "        idx = coords_pix[0][i]\n",
    "        idy = coords_pix[1][i]\n",
    "        fundo[idx][idy] = label[cont]+1\n",
    "        cont = cont + 1\n",
    "    return fundo"
   ]
  },
  {
   "cell_type": "code",
   "execution_count": 126,
   "metadata": {},
   "outputs": [],
   "source": [
    "def aplica_kmeans(img):\n",
    "    kmeans = KMeans(n_clusters=2, init='k-means++', n_init=10, random_state=1234)\n",
    "    kmeans.fit(img)\n",
    "    return kmeans.labels_"
   ]
  },
  {
   "cell_type": "code",
   "execution_count": 127,
   "metadata": {},
   "outputs": [],
   "source": [
    "def gera_mascara_interna(img):\n",
    "    \n",
    "    imgf = img.astype(np.float32)\n",
    "    median = cv2.medianBlur(imgf,7)\n",
    "    coords_pix = np.where(median>0)\n",
    "    reg_sig = seleciona_pixels_significativos(median, coords_pix)\n",
    "    \n",
    "    # Aplicação do k means com 2 clusters\n",
    "    # Treino com o vetor de pixels\n",
    "    # Pega lista de labels e redimensiona pra gerar uma máscara\n",
    "    # Essa máscara mostra cada região de uma cor\n",
    "    cluster_list = aplica_kmeans(reg_sig)\n",
    "    mask_kmeans = adiciona_labels_regioes(median, cluster_list, coords_pix)\n",
    "    \n",
    "    # Criação de um fundo de zeros e plotagem da região de label 0\n",
    "    fundo = np.zeros(img.shape,dtype=np.int8)\n",
    "    fundo = fundo + np.where(mask_kmeans==1,1,0)\n",
    "    \n",
    "    fundo1 = np.zeros(img.shape,dtype=np.int8)\n",
    "    fundo1 = fundo1 + np.where(mask_kmeans==2,1,0)\n",
    "    _im = median * fundo1\n",
    "    coords_pix = np.where(_im>0)\n",
    "    reg_sig = seleciona_pixels_significativos(_im, coords_pix)\n",
    "    \n",
    "    cluster_list = aplica_kmeans(reg_sig)\n",
    "    mask_kmeans = adiciona_labels_regioes(median, cluster_list, coords_pix)\n",
    "    \n",
    "    '''# Abertura morfológica para remoção de pequenas regiões claras\n",
    "    abertura = opening(fundo)\n",
    "    # Rotulação regiões conectadas seguida da aplicação do regionprops\n",
    "    labels = label(abertura)\n",
    "    props = regionprops(labels)\n",
    "\n",
    "    good_labels = []\n",
    "    # Utiliza a propriedade caixa delimitadora e alguns calculos para\n",
    "    # identificar regiões importantes. Esses cálculos usam como base\n",
    "    # a teoria de que a caixa dessas regiões importantes tendem\n",
    "    # a ter um formato diferente das de outras regiões.\n",
    "    for prop in props:\n",
    "        B = prop.bbox \n",
    "        if B[2]-B[0]<img.shape[0]/10*9 and B[3]-B[1]<img.shape[1]/10*9 and B[0]>img.shape[0]/5 and B[2]<img.shape[0]/5*4:\n",
    "            good_labels.append(prop.label)\n",
    "    mask = np.zeros(img.shape,dtype=np.int8)\n",
    "    # Geração de uma máscara com as regiões selecionadas anteriorimente\n",
    "    for N in good_labels:\n",
    "        mask = mask + np.where(labels==N,1,0)\n",
    "    # Dilatação para preservar regiões internas importantes\n",
    "    mask = dilation(mask)\n",
    "    return mask'''\n",
    "    return mask_kmeans"
   ]
  },
  {
   "cell_type": "code",
   "execution_count": 128,
   "metadata": {},
   "outputs": [
    {
     "data": {
      "image/png": "[encoded data removed]",
      "text/plain": [
       "<Figure size 432x288 with 1 Axes>"
      ]
     },
     "metadata": {
      "needs_background": "light"
     },
     "output_type": "display_data"
    }
   ],
   "source": [
    "mask = gera_mascara_interna(img)\n",
    "plt.imshow(mask)\n",
    "plt.show()"
   ]
  },
  {
   "cell_type": "code",
   "execution_count": 124,
   "metadata": {},
   "outputs": [],
   "source": [
    "seg = img*mask"
   ]
  },
  {
   "cell_type": "code",
   "execution_count": 125,
   "metadata": {},
   "outputs": [
    {
     "data": {
      "image/png": "[encoded data removed]",
      "text/plain": [
       "<Figure size 432x288 with 1 Axes>"
      ]
     },
     "metadata": {
      "needs_background": "light"
     },
     "output_type": "display_data"
    }
   ],
   "source": [
    "plt.imshow(seg, cmap='gray')\n",
    "plt.show()"
   ]
  },
  {
   "cell_type": "code",
   "execution_count": 56,
   "metadata": {},
   "outputs": [],
   "source": [
    "count = np.sum(median[:]<0)"
   ]
  },
  {
   "cell_type": "code",
   "execution_count": 37,
   "metadata": {},
   "outputs": [],
   "source": [
    "count_tot = np.sum(img[:])"
   ]
  },
  {
   "cell_type": "code",
   "execution_count": 57,
   "metadata": {},
   "outputs": [
    {
     "name": "stdout",
     "output_type": "stream",
     "text": [
      "168\n"
     ]
    }
   ],
   "source": [
    "print(count)"
   ]
  },
  {
   "cell_type": "code",
   "execution_count": 40,
   "metadata": {},
   "outputs": [],
   "source": [
    "fundo = np.zeros([512,512])\n",
    "fundo = fundo + np.where(img<0,1,0)"
   ]
  },
  {
   "cell_type": "code",
   "execution_count": 41,
   "metadata": {},
   "outputs": [
    {
     "data": {
      "image/png": "[encoded data removed]",
      "text/plain": [
       "<Figure size 432x288 with 1 Axes>"
      ]
     },
     "metadata": {
      "needs_background": "light"
     },
     "output_type": "display_data"
    }
   ],
   "source": [
    "plt.imshow(fundo, cmap='gray')\n",
    "plt.show()"
   ]
  },
  {
   "cell_type": "code",
   "execution_count": null,
   "metadata": {},
   "outputs": [],
   "source": []
  },
  {
   "cell_type": "code",
   "execution_count": null,
   "metadata": {},
   "outputs": [],
   "source": []
  }
 ],
 "metadata": {
  "kernelspec": {
   "display_name": "Python 3",
   "language": "python",
   "name": "python3"
  },
  "language_info": {
   "codemirror_mode": {
    "name": "ipython",
    "version": 3
   },
   "file_extension": ".py",
   "mimetype": "text/x-python",
   "name": "python",
   "nbconvert_exporter": "python",
   "pygments_lexer": "ipython3",
   "version": "3.7.4"
  }
 },
 "nbformat": 4,
 "nbformat_minor": 2
}
