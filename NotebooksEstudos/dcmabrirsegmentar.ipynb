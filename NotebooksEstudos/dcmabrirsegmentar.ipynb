{
 "cells": [
  {
   "cell_type": "code",
   "execution_count": null,
   "metadata": {},
   "outputs": [],
   "source": [
    "import numpy as np #Biblioteca com funções matemáticas\n",
    "from glob import glob #Leitura de nomes de arquivos com base em um padrão especificado\n",
    "import pydicom #Lib para a manipulação de arquivos dcm \n",
    "import matplotlib.pyplot as plt \n",
    "from mpl_toolkits.mplot3d import Axes3D\n",
    "from pydicom.data import get_testdata_files\n",
    "from skimage.filters import threshold_otsu\n",
    "from skimage.segmentation import clear_border\n",
    "from skimage.measure import label, regionprops\n",
    "from skimage.morphology import closing, square\n",
    "from skimage.color import label2rgb"
   ]
  },
  {
   "cell_type": "code",
   "execution_count": null,
   "metadata": {},
   "outputs": [],
   "source": [
    "image_directory = \"/media/acucena/Arquivos/Base ICV/LIDC-IDRI/img/teste/\"\n",
    "patient_ct_list = glob(image_directory+\"/*\") #Diretórios de cada imagem\n",
    "\n",
    "total_imagedata = []\n",
    "largest_stack = 0\n",
    "image_ds = []\n",
    "image_stack = []\n",
    "\n",
    "for patient in patient_ct_list:\n",
    "    subdirs = glob(patient + \"/*\")\n",
    "    # 1st Branch\n",
    "    first_subdir = glob(subdirs[0]+\"/*\")[0]\n",
    "    first_len = len([name for name in os.listdir(first_subdir + \"/\")])\n",
    "    # 2nd Branch\n",
    "    second_subdir = glob(subdirs[-1] + \"/*\")[0]\n",
    "    second_len = len([name for name in os.listdir(second_subdir + \"/\")])\n",
    "\n",
    "    # If 1st longer then build structure from 1st data\n",
    "    # If 2nd longer then build structure from 2nd data\n",
    "    if first_len > second_len:\n",
    "        patient_image_folder = first_subdir + \"/*dcm\"\n",
    "    else:\n",
    "        patient_image_folder = second_subdir + \"/*.dcm\"\n",
    "                     \n",
    "    for image in glob(patient_image_folder):\n",
    "\n",
    "        dataset = pydicom.dcmread(image)\n",
    "        image_stack.append(dataset.pixel_array)\n",
    "        image_ds.append(dataset)\n",
    "\n",
    "        '''# Normal mode:\n",
    "        print()\n",
    "        print(len(image_stack))\n",
    "        print(\"Storage type.....:\", dataset.SOPClassUID)\n",
    "        print()\n",
    "\n",
    "        pat_name = dataset.PatientName\n",
    "        display_name = pat_name.family_name + \", \" + pat_name.given_name\n",
    "        print(\"Patient's name...:\", display_name)\n",
    "        print(\"Patient id.......:\", dataset.PatientID)\n",
    "        print(\"Modality.........:\", dataset.Modality)\n",
    "        print(\"Study Date.......:\", dataset.StudyDate)\n",
    "\n",
    "        if 'PixelData' in dataset:\n",
    "            rows = int(dataset.Rows)\n",
    "            cols = int(dataset.Columns)\n",
    "            print(\"Image size.......: {rows:d} x {cols:d}, {size:d} bytes\".format(\n",
    "                rows=rows, cols=cols, size=len(dataset.PixelData)))\n",
    "            if 'PixelSpacing' in dataset:\n",
    "                print(\"Pixel spacing....:\", dataset.PixelSpacing)\n",
    "\n",
    "        # use .get() if not sure the item exists, and want a default value if missing\n",
    "        print(\"Slice location...:\", dataset.get('SliceLocation', \"(missing)\"))\n",
    "'''\n",
    "        # plot the image using matplotlib\n",
    "        plt.imshow(dataset.pixel_array, cmap=plt.cm.bone)\n",
    "        plt.show()\n"
   ]
  },
  {
   "cell_type": "code",
   "execution_count": null,
   "metadata": {
    "scrolled": true
   },
   "outputs": [],
   "source": [
    "thresh = threshold_otsu(image_stack[0])\n",
    "\n",
    "image = thresh < image_stack[0]\n"
   ]
  },
  {
   "cell_type": "code",
   "execution_count": null,
   "metadata": {},
   "outputs": [],
   "source": []
  }
 ],
 "metadata": {
  "kernelspec": {
   "display_name": "Python 3",
   "language": "python",
   "name": "python3"
  },
  "language_info": {
   "codemirror_mode": {
    "name": "ipython",
    "version": 3
   },
   "file_extension": ".py",
   "mimetype": "text/x-python",
   "name": "python",
   "nbconvert_exporter": "python",
   "pygments_lexer": "ipython3",
   "version": "3.6.8"
  }
 },
 "nbformat": 4,
 "nbformat_minor": 2
}
